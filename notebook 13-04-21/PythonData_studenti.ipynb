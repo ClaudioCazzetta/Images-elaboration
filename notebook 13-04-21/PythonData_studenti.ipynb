{
 "cells": [
  {
   "cell_type": "markdown",
   "metadata": {},
   "source": [
    "### Manipulazione di dati in Python"
   ]
  },
  {
   "cell_type": "raw",
   "metadata": {},
   "source": [
    "    ### Leggere dati da file CSV usando il package csv"
   ]
  },
  {
   "cell_type": "code",
   "execution_count": null,
   "metadata": {},
   "outputs": [],
   "source": [
    "import csv"
   ]
  },
  {
   "cell_type": "code",
   "execution_count": null,
   "metadata": {},
   "outputs": [],
   "source": [
    "# Compatibilità\n",
    "import os\n"
   ]
  },
  {
   "cell_type": "code",
   "execution_count": null,
   "metadata": {},
   "outputs": [],
   "source": [
    "# Usiamo il package 'DictReader' per leggere i dati di Cities.csv \n",
    "# Dopo l'intestazione, i dati sono letti riga per riga in un dizionario \n",
    "# Tutti i valori sono interpretati come stringhe\n",
    "with open('Cities.csv') as f:\n",
    "    rows = csv.DictReader(f)\n",
    "    for r in rows:\n",
    "        print(r)"
   ]
  },
  {
   "cell_type": "code",
   "execution_count": null,
   "metadata": {},
   "outputs": [],
   "source": [
    "# Stampiamo la città e la longitudine di tutte le città con  longitudine < 0\n",
    "with open('Cities.csv') as f:\n",
    "    rows = csv.DictReader(f)\n",
    "    for r in rows:\n",
    "        if float(r['longitude']) < 0:\n",
    "            print(r['city'], r['longitude'])"
   ]
  },
  {
   "cell_type": "markdown",
   "metadata": {},
   "source": [
    "### <font color=\"green\">Adesso tocca a voi</font>"
   ]
  },
  {
   "cell_type": "code",
   "execution_count": null,
   "metadata": {},
   "outputs": [],
   "source": [
    "# Usate il 'DictReader' per leggere i dati di Countries.csv \n",
    "# Trovate tutti gli stati che hanno un affaccio sul mare e\n",
    "# Che non si trovano nell'Unione Europea\n",
    "# Stampate il nome dello stato e la relativa popolazione\n",
    "# Usate  '==' per il test di uguaglianza e 'and' per l'AND logico\n"
   ]
  },
  {
   "cell_type": "markdown",
   "metadata": {},
   "source": [
    "### Leggere dati in strutture dati Python"
   ]
  },
  {
   "cell_type": "code",
   "execution_count": null,
   "metadata": {},
   "outputs": [],
   "source": [
    "# Importiamo i dati di Cities.csv in una lista di dizionari\n",
    "cities = []\n",
    "with open('Cities.csv') as f:\n",
    "    rows = csv.DictReader(f)\n",
    "    for r in rows:\n",
    "        cities.append(r)\n",
    "    print(cities)"
   ]
  },
  {
   "cell_type": "code",
   "execution_count": null,
   "metadata": {},
   "outputs": [],
   "source": [
    "# Importiamo i dati Countries.csv in una lista di dizionari\n",
    "countries = []\n",
    "with open('Countries.csv') as f:\n",
    "    rows = csv.DictReader(f)\n",
    "    for r in rows:\n",
    "        countries.append(r)\n",
    "    print(countries)"
   ]
  },
  {
   "cell_type": "code",
   "execution_count": null,
   "metadata": {},
   "outputs": [],
   "source": [
    "# Stampiamo la città e la longitudine di tutte le città con longitudine < 0\n",
    "for city in cities:\n",
    "    if float(city['longitude']) < 0:\n",
    "        print(city['city'], city['longitude'])"
   ]
  },
  {
   "cell_type": "code",
   "execution_count": null,
   "metadata": {},
   "outputs": [],
   "source": [
    "# Stampiamo ogni città con la relativa appartenenza o meno all'Unione Europea\n",
    "# Dobbiamo simulare una giunzione\n",
    "for city in cities:\n",
    "    for country in countries:\n",
    "        if city['country'] == country['country']:\n",
    "            print(city['city'], city['country'], '-', country['EU'])"
   ]
  },
  {
   "cell_type": "markdown",
   "metadata": {},
   "source": [
    "### Aggregazione"
   ]
  },
  {
   "cell_type": "code",
   "execution_count": null,
   "metadata": {},
   "outputs": [],
   "source": [
    "import numpy as np"
   ]
  },
  {
   "cell_type": "code",
   "execution_count": null,
   "metadata": {},
   "outputs": [],
   "source": [
    "# Calcoliamo la temperatura media delle città\n",
    "temps = [] # creiamo una lista di tutte le temperature\n",
    "for city in cities:\n",
    "    temps.append(float(city['temperature']))\n",
    "# print(temps)\n",
    "print(np.average(temps))"
   ]
  },
  {
   "cell_type": "code",
   "execution_count": null,
   "metadata": {},
   "outputs": [],
   "source": [
    "# Alternativa basata su sum e count\n",
    "sum = 0\n",
    "count = 0\n",
    "for city in cities:\n",
    "    sum += float(city['temperature'])\n",
    "    count += 1\n",
    "print(sum/count)"
   ]
  },
  {
   "cell_type": "code",
   "execution_count": null,
   "metadata": {},
   "outputs": [],
   "source": [
    "# Calcoliamo la temperatura media delle città per ogni stato\n",
    "# Costruiamo la liste degli stati\n",
    "countryList = []\n",
    "for city in cities:\n",
    "    if city['country'] not in countryList:\n",
    "        countryList.append(city['country'])\n",
    "# print(countryList)\n",
    "# Calcoliamo  le temperature medie\n",
    "for country in countryList:\n",
    "    temps = []\n",
    "    for city in cities:\n",
    "        if city['country'] == country:\n",
    "            temps.append(float(city['temperature']))\n",
    "    print(country, np.average(temps))"
   ]
  },
  {
   "cell_type": "code",
   "execution_count": null,
   "metadata": {},
   "outputs": [],
   "source": [
    "# Troviamo la temperatura minima e massima delle città\n",
    "temps = []\n",
    "for city in cities:\n",
    "    temps.append(float(city['temperature'])) \n",
    "print('Minima:', min(temps))\n",
    "print('Massima:', max(temps))"
   ]
  },
  {
   "cell_type": "code",
   "execution_count": null,
   "metadata": {},
   "outputs": [],
   "source": [
    "# Metodo alternativo che si basa sul calcolo esplicita del minimo e del massimo\n",
    "# I valori iniziali assumono che  min < 0 e max > 0\n",
    "minval = 0\n",
    "maxval = 0\n",
    "for city in cities:\n",
    "    if float(city['temperature']) < minval:\n",
    "        minval = float(city['temperature'])\n",
    "    if float(city['temperature']) > maxval:\n",
    "        maxval = float(city['temperature'])\n",
    "print('Minima:', minval)\n",
    "print('Massima:', maxval)"
   ]
  },
  {
   "cell_type": "markdown",
   "metadata": {},
   "source": [
    "### <font color=\"green\">Adesso tocca a voi</font>"
   ]
  },
  {
   "cell_type": "code",
   "execution_count": null,
   "metadata": {
    "scrolled": true
   },
   "outputs": [],
   "source": [
    "# Calcolate la temperatura media delle nazioni nell’Unione Europea e al di fuori dell’Unione Europea\n",
    "# Prima della Brexit\n",
    "# Dopo la Brexit\n",
    "\n"
   ]
  },
  {
   "cell_type": "markdown",
   "metadata": {},
   "source": [
    "### <font color=\"green\">Adesso tocca a voi</font>"
   ]
  },
  {
   "cell_type": "code",
   "execution_count": null,
   "metadata": {},
   "outputs": [],
   "source": [
    "# Trovate la nazione con la più piccola temperatura media\n",
    "# Trovate la nazione con la maggiore temperatura media\n",
    "# Stampate nazione e temperatura\n",
    "\n"
   ]
  },
  {
   "cell_type": "code",
   "execution_count": null,
   "metadata": {},
   "outputs": [],
   "source": []
  }
 ],
 "metadata": {
  "kernelspec": {
   "display_name": "Python 3",
   "language": "python",
   "name": "python3"
  },
  "language_info": {
   "codemirror_mode": {
    "name": "ipython",
    "version": 3
   },
   "file_extension": ".py",
   "mimetype": "text/x-python",
   "name": "python",
   "nbconvert_exporter": "python",
   "pygments_lexer": "ipython3",
   "version": "3.7.6"
  }
 },
 "nbformat": 4,
 "nbformat_minor": 1
}

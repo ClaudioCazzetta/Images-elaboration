{
 "cells": [
  {
   "cell_type": "markdown",
   "metadata": {},
   "source": [
    "# Pandas - memorizzare e manipolare dati in dataframe "
   ]
  },
  {
   "cell_type": "code",
   "execution_count": null,
   "metadata": {},
   "outputs": [],
   "source": [
    "import pandas as pd\n",
    "import numpy as np\n",
    "pd.set_option('display.min_rows', 20)"
   ]
  },
  {
   "cell_type": "code",
   "execution_count": null,
   "metadata": {},
   "outputs": [],
   "source": [
    "# Importiamo una libreria di sistema\n",
    "import os"
   ]
  },
  {
   "cell_type": "markdown",
   "metadata": {},
   "source": [
    "### Leggiamo un file  CSV e importiamolo in un dataframe"
   ]
  },
  {
   "cell_type": "code",
   "execution_count": null,
   "metadata": {},
   "outputs": [],
   "source": [
    "f = open('Cities.csv')\n",
    "cities = pd.read_csv(f)"
   ]
  },
  {
   "cell_type": "code",
   "execution_count": null,
   "metadata": {},
   "outputs": [],
   "source": [
    "cities"
   ]
  },
  {
   "cell_type": "code",
   "execution_count": null,
   "metadata": {
    "scrolled": false
   },
   "outputs": [],
   "source": [
    "# Numero di righe\n",
    "len(cities)"
   ]
  },
  {
   "cell_type": "code",
   "execution_count": null,
   "metadata": {},
   "outputs": [],
   "source": [
    "# Le prime righe\n",
    "cities.head()"
   ]
  },
  {
   "cell_type": "code",
   "execution_count": null,
   "metadata": {},
   "outputs": [],
   "source": [
    "# Le ultime 20 righe\n",
    "cities.tail(20)"
   ]
  },
  {
   "cell_type": "markdown",
   "metadata": {},
   "source": [
    "### Ordinare, selezionare righe e colonne"
   ]
  },
  {
   "cell_type": "code",
   "execution_count": null,
   "metadata": {},
   "outputs": [],
   "source": [
    "# Ordiniamo per stato e poi per temperatura decrescente \n",
    "cities.sort_values(['country','temperature'],ascending=[True,False])"
   ]
  },
  {
   "cell_type": "code",
   "execution_count": null,
   "metadata": {
    "scrolled": true
   },
   "outputs": [],
   "source": [
    "# Selezionare una singola colonna e restituire una serie\n",
    "cities.city"
   ]
  },
  {
   "cell_type": "code",
   "execution_count": null,
   "metadata": {},
   "outputs": [],
   "source": [
    "cities['city']"
   ]
  },
  {
   "cell_type": "code",
   "execution_count": null,
   "metadata": {},
   "outputs": [],
   "source": [
    "cities['temperature']"
   ]
  },
  {
   "cell_type": "code",
   "execution_count": null,
   "metadata": {},
   "outputs": [],
   "source": [
    "cities.temperature"
   ]
  },
  {
   "cell_type": "code",
   "execution_count": null,
   "metadata": {},
   "outputs": [],
   "source": [
    "# Selezionare colonne multiple\n",
    "# Viene restituito un dataframe\n",
    "cities[['city','temperature']]"
   ]
  },
  {
   "cell_type": "code",
   "execution_count": null,
   "metadata": {},
   "outputs": [],
   "source": [
    "cities[['city']]"
   ]
  },
  {
   "cell_type": "code",
   "execution_count": null,
   "metadata": {},
   "outputs": [],
   "source": [
    "# Selezionare righe sulla base di una condizione\n",
    "# Non c'è necessità di fare conversioni di tipo\n",
    "# pandas inferisce tipi per le colonne\n",
    "cities[cities.longitude < 0]"
   ]
  },
  {
   "cell_type": "code",
   "execution_count": null,
   "metadata": {},
   "outputs": [],
   "source": [
    "# Selezionare le righe sulla base del loro indice\n",
    "cities[15:20]\n",
    "# Show cities[:8] and cities[200:]"
   ]
  },
  {
   "cell_type": "code",
   "execution_count": null,
   "metadata": {
    "scrolled": false
   },
   "outputs": [],
   "source": [
    "cities[:8]"
   ]
  },
  {
   "cell_type": "code",
   "execution_count": null,
   "metadata": {},
   "outputs": [],
   "source": [
    "cities[200:]"
   ]
  },
  {
   "cell_type": "code",
   "execution_count": null,
   "metadata": {},
   "outputs": [],
   "source": [
    "# Combiniamo il tutto\n",
    "# Selezioniamo righe, selezioniamo colonne, ordiniamo\n",
    "# Città e longitudine di tutte le città con  latitudine > 50 e\n",
    "# temperatura > 9, ordinate per longitudine\n",
    "temp1 = cities[(cities.latitude > 50) & (cities.temperature > 9)]\n",
    "temp2 = temp1[['city','longitude']]\n",
    "temp3 = temp2.sort_values('longitude')\n",
    "temp3"
   ]
  },
  {
   "cell_type": "markdown",
   "metadata": {},
   "source": [
    "### <font color=\"green\">Adesso tocca a voi</font>"
   ]
  },
  {
   "cell_type": "code",
   "execution_count": null,
   "metadata": {},
   "outputs": [],
   "source": [
    "# Aprite il file Countries.csv in un dataframe\n",
    "f = open('Countries.csv')\n",
    "countries = pd.read_csv(f)"
   ]
  },
  {
   "cell_type": "code",
   "execution_count": null,
   "metadata": {},
   "outputs": [],
   "source": [
    "# Trovate tutti gli stati che non nell'Unione Europea e che  \n",
    "# non si affacciano sul mare; mostrate inoltre la popolazione e\n",
    "# ordinate per popolazione (ordinamento crescente)\n",
    "countries[(countries.EU == 'no') & (countries.coastline == 'no')][['country','population']].sort_values('population')"
   ]
  },
  {
   "cell_type": "markdown",
   "metadata": {},
   "source": [
    "### Aggregazione"
   ]
  },
  {
   "cell_type": "code",
   "execution_count": null,
   "metadata": {},
   "outputs": [],
   "source": [
    "# Temperatura minima e massima\n",
    "print('Temperatura minima:', min(cities.temperature))\n",
    "print('Temperatura massima:', max(cities.temperature))"
   ]
  },
  {
   "cell_type": "code",
   "execution_count": null,
   "metadata": {},
   "outputs": [],
   "source": [
    "# Temperatura media\n",
    "print('Usando average di numpy:', np.average(cities.temperature))\n",
    "print('Usando la funzione predefinita mean:', cities.temperature.mean())"
   ]
  },
  {
   "cell_type": "code",
   "execution_count": null,
   "metadata": {},
   "outputs": [],
   "source": [
    "# Temperatura media delle città in ogni stato\n",
    "cities.groupby('country').mean().temperature"
   ]
  },
  {
   "cell_type": "code",
   "execution_count": null,
   "metadata": {},
   "outputs": [],
   "source": [
    "cities.groupby('country').min().temperature"
   ]
  },
  {
   "cell_type": "code",
   "execution_count": null,
   "metadata": {},
   "outputs": [],
   "source": [
    "cities.groupby('country').temperature.mean()"
   ]
  },
  {
   "cell_type": "markdown",
   "metadata": {},
   "source": [
    "### <font color=\"green\">Adesso tocca a voi</font>"
   ]
  },
  {
   "cell_type": "code",
   "execution_count": null,
   "metadata": {},
   "outputs": [],
   "source": [
    "# Trovate la popolazione media degli stati che si affacciano sul mare, \n",
    "# ma anche degli stati che non si affacciano sul mare\n",
    "# Potete usare il groupby!\n",
    "countries.groupby('coastline').mean().population"
   ]
  },
  {
   "cell_type": "code",
   "execution_count": null,
   "metadata": {},
   "outputs": [],
   "source": [
    "# Modificate per raggruppare per coastline e EU\n",
    "countries.groupby(['coastline','EU']).mean()[['population']]"
   ]
  },
  {
   "cell_type": "markdown",
   "metadata": {},
   "source": [
    "### Giunzioni"
   ]
  },
  {
   "cell_type": "code",
   "execution_count": null,
   "metadata": {},
   "outputs": [],
   "source": [
    "cities.merge(countries, on='country')"
   ]
  },
  {
   "cell_type": "code",
   "execution_count": null,
   "metadata": {},
   "outputs": [],
   "source": [
    "# La giunzione è simmetrica\n",
    "# Esistono però parametri per configurarla opportunamente\n",
    "countries.merge(cities, on='country')"
   ]
  },
  {
   "cell_type": "markdown",
   "metadata": {},
   "source": [
    "### Miscellanea"
   ]
  },
  {
   "cell_type": "code",
   "execution_count": null,
   "metadata": {},
   "outputs": [],
   "source": [
    "# Operazioni su stringhe - stati con 'ia' nel loro nome\n",
    "countries[countries.country.str.contains('ia')]"
   ]
  },
  {
   "cell_type": "code",
   "execution_count": null,
   "metadata": {},
   "outputs": [],
   "source": [
    "# Aggiungiamo la colonna fahrenheit \n",
    "cities['fahrenheit'] = (cities.temperature * 9/5) + 32\n",
    "cities"
   ]
  },
  {
   "cell_type": "code",
   "execution_count": null,
   "metadata": {},
   "outputs": [],
   "source": [
    "# Qualche volta dataframe temporanei sono necessari\n",
    "# Città con latitudine > 50 non nell'Unione Europea EU \n",
    "temp1 = cities[cities.latitude > 50]\n",
    "temp2 = countries[(countries.EU == 'no')]\n",
    "temp3 = temp1.merge(temp2, on='country')\n",
    "temp3"
   ]
  },
  {
   "cell_type": "code",
   "execution_count": null,
   "metadata": {},
   "outputs": [],
   "source": [
    "# Il notebook mostra solo il risultato dell'ultima linea di codice\n",
    "# Per stampare ciò che abbiamo calcolato prima dobbiamo usare print()\n",
    "cities[cities.longitude > 35]\n",
    "cities[cities.longitude < -5]"
   ]
  },
  {
   "cell_type": "markdown",
   "metadata": {},
   "source": [
    "### <font color=\"green\">Adesso tocca a voi</font>"
   ]
  },
  {
   "cell_type": "code",
   "execution_count": null,
   "metadata": {},
   "outputs": [],
   "source": [
    "# Calcolate la temperatura media delle città nell’Unione Europea e al di fuori dell’Unione Europea\n",
    "# Prima della Brexit\n",
    "# Dopo la Brexit\n",
    "# Suggerimento\n",
    "# Potete risolvere il problema con 5 linee di codice creando un dataframe con una giunzione, facendo poi la media delle temperature per i quattro diversi insiemi di condizioni.\n",
    "# L’OR  di condizioni si esprime in Pandas con '|'\n",
    "countriesEUBB = countries[countries.EU ==\"yes\"]\n",
    "countriesEUAB = countries[(countries.EU == \"yes\") & (countries.country !=\"United Kingdom\")]\n",
    "countriesNEUBB = countries[countries.EU ==\"no\"]\n",
    "countriesNEUAB = countries[(countries.EU ==\"no\") |  (countries.country ==\"United Kingdom\")]\n",
    "print(\"AVG EU BB:\", cities.merge(countriesEUBB, on='country').temperature.mean())\n",
    "print(\"AVG EU AB:\", cities.merge(countriesEUAB, on='country').temperature.mean())\n",
    "print(\"AVG NON-EU BB:\", cities.merge(countriesNEUBB, on='country').temperature.mean())\n",
    "print(\"AVG NON-EU AB:\", cities.merge(countriesNEUAB, on='country').temperature.mean())"
   ]
  },
  {
   "cell_type": "code",
   "execution_count": null,
   "metadata": {},
   "outputs": [],
   "source": [
    "# Trovate le città che hanno la 'k' nel proprio nome e che si trovano in uno stato\n",
    "# che si affaccia sul mare. Stampate il nome della seconda città più fredda, con il nome del relativo stato,\n",
    "# e il nome della seconda città più calda, sempre con il nome del relativo stato."
   ]
  },
  {
   "cell_type": "code",
   "execution_count": null,
   "metadata": {},
   "outputs": [],
   "source": [
    "citiesext = cities.merge(countries, on='country')\n",
    "cities2 = citiesext[((citiesext.city.str.contains('k'))|(citiesext.city.str.contains('K'))) & (citiesext.coastline == 'yes')].sort_values('temperature')\n",
    "print('Seconda città più fredda:', cities2.head(2).tail(1)[['city','country']])\n",
    "print('Seconda città più calda:', cities2.tail(2).head(1)[['city','country']])"
   ]
  },
  {
   "cell_type": "code",
   "execution_count": null,
   "metadata": {},
   "outputs": [],
   "source": []
  }
 ],
 "metadata": {
  "kernelspec": {
   "display_name": "Python 3",
   "language": "python",
   "name": "python3"
  },
  "language_info": {
   "codemirror_mode": {
    "name": "ipython",
    "version": 3
   },
   "file_extension": ".py",
   "mimetype": "text/x-python",
   "name": "python",
   "nbconvert_exporter": "python",
   "pygments_lexer": "ipython3",
   "version": "3.7.6"
  }
 },
 "nbformat": 4,
 "nbformat_minor": 1
}
